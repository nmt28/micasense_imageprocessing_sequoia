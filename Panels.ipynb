{
 "cells": [
  {
   "cell_type": "markdown",
   "metadata": {},
   "source": [
    "# Panels\n",
    "This notebook shows usage for the Panel class.  This type is useful for detecting MicaSense calibration panels and extracting information about the lambertian panel surface."
   ]
  },
  {
   "cell_type": "code",
   "execution_count": 1,
   "metadata": {},
   "outputs": [
    {
     "ename": "AttributeError",
     "evalue": "'ExifTool' object has no attribute 'get_metadata'",
     "output_type": "error",
     "traceback": [
      "\u001b[31m---------------------------------------------------------------------------\u001b[39m",
      "\u001b[31mAttributeError\u001b[39m                            Traceback (most recent call last)",
      "\u001b[36mCell\u001b[39m\u001b[36m \u001b[39m\u001b[32mIn[1]\u001b[39m\u001b[32m, line 9\u001b[39m\n\u001b[32m      6\u001b[39m imagePath = os.path.join(\u001b[33m'\u001b[39m\u001b[33m.\u001b[39m\u001b[33m'\u001b[39m,\u001b[33m'\u001b[39m\u001b[33mdata\u001b[39m\u001b[33m'\u001b[39m,\u001b[33m'\u001b[39m\u001b[33m0000SET\u001b[39m\u001b[33m'\u001b[39m,\u001b[33m'\u001b[39m\u001b[33m000\u001b[39m\u001b[33m'\u001b[39m)\n\u001b[32m      7\u001b[39m imageName = glob.glob(os.path.join(imagePath,\u001b[33m'\u001b[39m\u001b[33mIMG_0000_1.tif\u001b[39m\u001b[33m'\u001b[39m))[\u001b[32m0\u001b[39m]\n\u001b[32m----> \u001b[39m\u001b[32m9\u001b[39m img = \u001b[43mImage\u001b[49m\u001b[43m(\u001b[49m\u001b[43mimageName\u001b[49m\u001b[43m)\u001b[49m\n\u001b[32m     10\u001b[39m panel = Panel(img)\n\u001b[32m     12\u001b[39m \u001b[38;5;28;01mif\u001b[39;00m \u001b[38;5;129;01mnot\u001b[39;00m panel.panel_detected():\n",
      "\u001b[36mFile \u001b[39m\u001b[32m~/Library/CloudStorage/OneDrive-EdgeHillUniversity/Developer/micasense_imageprocessing_sequoia/micasense/image.py:47\u001b[39m, in \u001b[36mImage.__init__\u001b[39m\u001b[34m(self, image_path)\u001b[39m\n\u001b[32m     45\u001b[39m     \u001b[38;5;28;01mraise\u001b[39;00m \u001b[38;5;167;01mIOError\u001b[39;00m(\u001b[33m\"\u001b[39m\u001b[33mProvided path is not a file: \u001b[39m\u001b[38;5;132;01m{}\u001b[39;00m\u001b[33m\"\u001b[39m.format(image_path))\n\u001b[32m     46\u001b[39m \u001b[38;5;28mself\u001b[39m.path = image_path\n\u001b[32m---> \u001b[39m\u001b[32m47\u001b[39m \u001b[38;5;28mself\u001b[39m.meta = \u001b[43mmetadata\u001b[49m\u001b[43m.\u001b[49m\u001b[43mMetadata\u001b[49m\u001b[43m(\u001b[49m\u001b[38;5;28;43mself\u001b[39;49m\u001b[43m.\u001b[49m\u001b[43mpath\u001b[49m\u001b[43m)\u001b[49m\n\u001b[32m     49\u001b[39m \u001b[38;5;28;01mif\u001b[39;00m \u001b[38;5;129;01mnot\u001b[39;00m \u001b[38;5;28mself\u001b[39m.meta.supports_radiometric_calibration():\n\u001b[32m     50\u001b[39m     \u001b[38;5;28;01mraise\u001b[39;00m \u001b[38;5;167;01mValueError\u001b[39;00m(\u001b[33m'\u001b[39m\u001b[33mLibrary requires images taken with camera firmware v2.1.0 or later. \u001b[39m\u001b[33m'\u001b[39m +\n\u001b[32m     51\u001b[39m     \u001b[33m'\u001b[39m\u001b[33mUpgrade your camera firmware to use this library.\u001b[39m\u001b[33m'\u001b[39m)\n",
      "\u001b[36mFile \u001b[39m\u001b[32m~/Library/CloudStorage/OneDrive-EdgeHillUniversity/Developer/micasense_imageprocessing_sequoia/micasense/metadata.py:45\u001b[39m, in \u001b[36mMetadata.__init__\u001b[39m\u001b[34m(self, filename, exiftoolPath)\u001b[39m\n\u001b[32m     43\u001b[39m     \u001b[38;5;28;01mraise\u001b[39;00m \u001b[38;5;167;01mIOError\u001b[39;00m(\u001b[33m\"\u001b[39m\u001b[33mInput path is not a file\u001b[39m\u001b[33m\"\u001b[39m)\n\u001b[32m     44\u001b[39m \u001b[38;5;28;01mwith\u001b[39;00m exiftool.ExifTool(\u001b[38;5;28mself\u001b[39m.exiftoolPath) \u001b[38;5;28;01mas\u001b[39;00m exift:\n\u001b[32m---> \u001b[39m\u001b[32m45\u001b[39m     \u001b[38;5;28mself\u001b[39m.exif = \u001b[43mexift\u001b[49m\u001b[43m.\u001b[49m\u001b[43mget_metadata\u001b[49m(filename)\n",
      "\u001b[31mAttributeError\u001b[39m: 'ExifTool' object has no attribute 'get_metadata'"
     ]
    }
   ],
   "source": [
    "import os, glob\n",
    "from micasense.image import Image\n",
    "from micasense.panel import Panel\n",
    "%matplotlib inline\n",
    "\n",
    "imagePath = os.path.join('.','data','0000SET','000')\n",
    "imageName = glob.glob(os.path.join(imagePath,'IMG_0000_1.tif'))[0]\n",
    "\n",
    "img = Image(imageName)\n",
    "panel = Panel(img)\n",
    "\n",
    "if not panel.panel_detected():\n",
    "    raise IOError(\"Panel Not Detected!\")\n",
    "    \n",
    "print(\"Detected panel serial: {}\".format(panel.serial))\n",
    "mean, std, num, sat_count = panel.raw()\n",
    "print(\"Extracted Panel Statistics:\")\n",
    "print(\"Mean: {}\".format(mean))\n",
    "print(\"Standard Deviation: {}\".format(std))\n",
    "print(\"Panel Pixel Count: {}\".format(num))\n",
    "print(\"Saturated Pixel Count: {}\".format(sat_count))\n",
    "\n",
    "panel.plot();"
   ]
  },
  {
   "cell_type": "markdown",
   "metadata": {},
   "source": [
    "---\n",
    "Copyright (c) 2017-2018 MicaSense, Inc.  For licensing information see the [project git repository](https://github.com/micasense/imageprocessing)"
   ]
  }
 ],
 "metadata": {
  "kernelspec": {
   "display_name": "Python 3 (ipykernel)",
   "language": "python",
   "name": "python3"
  },
  "language_info": {
   "codemirror_mode": {
    "name": "ipython",
    "version": 3
   },
   "file_extension": ".py",
   "mimetype": "text/x-python",
   "name": "python",
   "nbconvert_exporter": "python",
   "pygments_lexer": "ipython3",
   "version": "3.12.10"
  },
  "toc": {
   "nav_menu": {},
   "number_sections": true,
   "sideBar": true,
   "skip_h1_title": false,
   "toc_cell": false,
   "toc_position": {},
   "toc_section_display": "block",
   "toc_window_display": false
  },
  "varInspector": {
   "cols": {
    "lenName": 16,
    "lenType": 16,
    "lenVar": 40
   },
   "kernels_config": {
    "python": {
     "delete_cmd_postfix": "",
     "delete_cmd_prefix": "del ",
     "library": "var_list.py",
     "varRefreshCmd": "print(var_dic_list())"
    },
    "r": {
     "delete_cmd_postfix": ") ",
     "delete_cmd_prefix": "rm(",
     "library": "var_list.r",
     "varRefreshCmd": "cat(var_dic_list()) "
    }
   },
   "types_to_exclude": [
    "module",
    "function",
    "builtin_function_or_method",
    "instance",
    "_Feature"
   ],
   "window_display": false
  }
 },
 "nbformat": 4,
 "nbformat_minor": 4
}
